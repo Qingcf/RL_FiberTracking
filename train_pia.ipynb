{
 "cells": [
  {
   "cell_type": "code",
   "execution_count": 1,
   "metadata": {},
   "outputs": [],
   "source": [
    "import torch\n",
    "import gym\n",
    "import numpy as numpy\n",
    "from agent_pia import Agent, Action_Scheduler\n",
    "\n",
    "import os, sys\n",
    "sys.path.append('ext/deepFibreTracking/')\n",
    "\n",
    "import envs.RLtractEnvironment as RLTe"
   ]
  },
  {
   "cell_type": "code",
   "execution_count": 2,
   "metadata": {},
   "outputs": [],
   "source": [
    "max_steps = 30000000\n",
    "replay_memory_size = 20000\n",
    "agent_history_length = 1\n",
    "evaluate_every = 200000\n",
    "eval_runs = 5\n",
    "\n",
    "max_episode_length = 200\n"
   ]
  },
  {
   "cell_type": "code",
   "execution_count": 3,
   "metadata": {},
   "outputs": [],
   "source": [
    "device = torch.device('cuda' if torch.cuda.is_available() else 'cpu')\n",
    "env = RLTe.RLtractEnvironment(device = 'cpu')\n",
    "n_actions = env.action_space.n\n",
    "#print(n_actions)\n",
    "\n",
    "agent = Agent(n_actions=n_actions, inp_size=n_actions, device=device, hidden=256, agent_history_length=1, memory_size=20000)\n",
    "\n",
    "action_scheduler = Action_Scheduler(num_actions=n_actions, max_steps=30000000, replay_memory_start_size=20000, model=agent.main_dqn)"
   ]
  },
  {
   "cell_type": "code",
   "execution_count": 4,
   "metadata": {},
   "outputs": [
    {
     "name": "stdout",
     "output_type": "stream",
     "text": [
      "[   50 -1000    50]\n"
     ]
    },
    {
     "ename": "PointOutsideOfDWIError",
     "evalue": "While parsing 27 points for further processing, it became apparent that [[   26.5 -1377.    -10.5]\n [   26.5 -1377.     -9.5]\n [   26.5 -1377.     -8.5]\n [   26.5 -1376.    -10.5]\n [   26.5 -1376.     -9.5]\n [   26.5 -1376.     -8.5]\n [   26.5 -1375.    -10.5]\n [   26.5 -1375.     -9.5]\n [   26.5 -1375.     -8.5]\n [   27.5 -1377.    -10.5]\n [   27.5 -1377.     -9.5]\n [   27.5 -1377.     -8.5]\n [   27.5 -1376.    -10.5]\n [   27.5 -1376.     -9.5]\n [   27.5 -1376.     -8.5]\n [   27.5 -1375.    -10.5]\n [   27.5 -1375.     -9.5]\n [   27.5 -1375.     -8.5]\n [   28.5 -1377.    -10.5]\n [   28.5 -1377.     -9.5]\n [   28.5 -1377.     -8.5]\n [   28.5 -1376.    -10.5]\n [   28.5 -1376.     -9.5]\n [   28.5 -1376.     -8.5]\n [   28.5 -1375.    -10.5]\n [   28.5 -1375.     -9.5]\n [   28.5 -1375.     -8.5]] of the points doesn't lay inside of DataContainer 'HCPDataContainer-HCP100307-b0thr-10.0'.",
     "output_type": "error",
     "traceback": [
      "\u001b[0;31m---------------------------------------------------------------------------\u001b[0m",
      "\u001b[0;31mPointOutsideOfDWIError\u001b[0m                    Traceback (most recent call last)",
      "\u001b[0;32m<ipython-input-4-ef2b5da89d2e>\u001b[0m in \u001b[0;36m<module>\u001b[0;34m\u001b[0m\n\u001b[1;32m      1\u001b[0m \u001b[0mstate\u001b[0m \u001b[0;34m=\u001b[0m \u001b[0menv\u001b[0m\u001b[0;34m.\u001b[0m\u001b[0mreset\u001b[0m\u001b[0;34m(\u001b[0m\u001b[0;34m)\u001b[0m\u001b[0;34m\u001b[0m\u001b[0;34m\u001b[0m\u001b[0m\n\u001b[1;32m      2\u001b[0m \u001b[0mprint\u001b[0m\u001b[0;34m(\u001b[0m\u001b[0mstate\u001b[0m\u001b[0;34m.\u001b[0m\u001b[0mgetCoordinate\u001b[0m\u001b[0;34m(\u001b[0m\u001b[0;34m)\u001b[0m\u001b[0;34m)\u001b[0m\u001b[0;34m\u001b[0m\u001b[0;34m\u001b[0m\u001b[0m\n\u001b[0;32m----> 3\u001b[0;31m \u001b[0mprint\u001b[0m\u001b[0;34m(\u001b[0m\u001b[0mstate\u001b[0m\u001b[0;34m.\u001b[0m\u001b[0mgetValue\u001b[0m\u001b[0;34m(\u001b[0m\u001b[0;34m)\u001b[0m\u001b[0;34m.\u001b[0m\u001b[0mshape\u001b[0m\u001b[0;34m)\u001b[0m\u001b[0;34m\u001b[0m\u001b[0;34m\u001b[0m\u001b[0m\n\u001b[0m",
      "\u001b[0;32m/bigdata/hplsim/aipp/RLtract/RL_FiberTracking/state.py\u001b[0m in \u001b[0;36mgetValue\u001b[0;34m(self)\u001b[0m\n\u001b[1;32m     13\u001b[0m     \u001b[0;32mdef\u001b[0m \u001b[0mgetValue\u001b[0m\u001b[0;34m(\u001b[0m\u001b[0mself\u001b[0m\u001b[0;34m)\u001b[0m\u001b[0;34m:\u001b[0m\u001b[0;34m\u001b[0m\u001b[0;34m\u001b[0m\u001b[0m\n\u001b[1;32m     14\u001b[0m         \u001b[0;31m# interpolate DWI value at self.coordinate\u001b[0m\u001b[0;34m\u001b[0m\u001b[0;34m\u001b[0m\u001b[0;34m\u001b[0m\u001b[0m\n\u001b[0;32m---> 15\u001b[0;31m         \u001b[0minterpolatedDWI\u001b[0m \u001b[0;34m=\u001b[0m \u001b[0mself\u001b[0m\u001b[0;34m.\u001b[0m\u001b[0minterpolFuncHandle\u001b[0m\u001b[0;34m(\u001b[0m\u001b[0mself\u001b[0m\u001b[0;34m.\u001b[0m\u001b[0mcoordinate\u001b[0m\u001b[0;34m)\u001b[0m\u001b[0;34m\u001b[0m\u001b[0;34m\u001b[0m\u001b[0m\n\u001b[0m\u001b[1;32m     16\u001b[0m         \u001b[0;32mreturn\u001b[0m \u001b[0minterpolatedDWI\u001b[0m\u001b[0;34m\u001b[0m\u001b[0;34m\u001b[0m\u001b[0m\n",
      "\u001b[0;32m/bigdata/hplsim/aipp/RLtract/RL_FiberTracking/envs/RLtractEnvironment.py\u001b[0m in \u001b[0;36minterpolateDWIatState\u001b[0;34m(self, state)\u001b[0m\n\u001b[1;32m     36\u001b[0m         \u001b[0mras_points\u001b[0m \u001b[0;34m=\u001b[0m \u001b[0mself\u001b[0m\u001b[0;34m.\u001b[0m\u001b[0mgrid\u001b[0m \u001b[0;34m+\u001b[0m \u001b[0mras_points\u001b[0m\u001b[0;34m\u001b[0m\u001b[0;34m\u001b[0m\u001b[0m\n\u001b[1;32m     37\u001b[0m \u001b[0;34m\u001b[0m\u001b[0m\n\u001b[0;32m---> 38\u001b[0;31m         \u001b[0minterpolated_dwi\u001b[0m \u001b[0;34m=\u001b[0m \u001b[0mself\u001b[0m\u001b[0;34m.\u001b[0m\u001b[0mdataset\u001b[0m\u001b[0;34m.\u001b[0m\u001b[0mget_interpolated_dwi\u001b[0m\u001b[0;34m(\u001b[0m\u001b[0mras_points\u001b[0m\u001b[0;34m,\u001b[0m \u001b[0mpostprocessing\u001b[0m\u001b[0;34m=\u001b[0m\u001b[0mself\u001b[0m\u001b[0;34m.\u001b[0m\u001b[0mdwi_postprocessor\u001b[0m\u001b[0;34m)\u001b[0m\u001b[0;34m\u001b[0m\u001b[0;34m\u001b[0m\u001b[0m\n\u001b[0m\u001b[1;32m     39\u001b[0m         \u001b[0minterpolated_dwi\u001b[0m \u001b[0;34m=\u001b[0m \u001b[0mnp\u001b[0m\u001b[0;34m.\u001b[0m\u001b[0mrollaxis\u001b[0m\u001b[0;34m(\u001b[0m\u001b[0minterpolated_dwi\u001b[0m\u001b[0;34m,\u001b[0m\u001b[0;36m3\u001b[0m\u001b[0;34m)\u001b[0m \u001b[0;31m#CxWxHxD\u001b[0m\u001b[0;34m\u001b[0m\u001b[0;34m\u001b[0m\u001b[0m\n\u001b[1;32m     40\u001b[0m         \u001b[0minterpolated_dwi\u001b[0m \u001b[0;34m=\u001b[0m \u001b[0mself\u001b[0m\u001b[0;34m.\u001b[0m\u001b[0mdtype\u001b[0m\u001b[0;34m(\u001b[0m\u001b[0minterpolated_dwi\u001b[0m\u001b[0;34m)\u001b[0m\u001b[0;34m.\u001b[0m\u001b[0mto\u001b[0m\u001b[0;34m(\u001b[0m\u001b[0mself\u001b[0m\u001b[0;34m.\u001b[0m\u001b[0mdevice\u001b[0m\u001b[0;34m)\u001b[0m\u001b[0;34m\u001b[0m\u001b[0;34m\u001b[0m\u001b[0m\n",
      "\u001b[0;32m/bigdata/hplsim/aipp/RLtract/RL_FiberTracking/ext/deepFibreTracking/src/data/__init__.py\u001b[0m in \u001b[0;36mget_interpolated_dwi\u001b[0;34m(self, points, postprocessing, ignore_outside_points)\u001b[0m\n\u001b[1;32m    463\u001b[0m         \u001b[0ma\u001b[0m\u001b[0;34m,\u001b[0m \u001b[0;34m=\u001b[0m \u001b[0mnp\u001b[0m\u001b[0;34m.\u001b[0m\u001b[0mnonzero\u001b[0m\u001b[0;34m(\u001b[0m\u001b[0mcondition\u001b[0m\u001b[0;34m)\u001b[0m \u001b[0;31m# np.nonzero returns tuple (a)\u001b[0m\u001b[0;34m\u001b[0m\u001b[0;34m\u001b[0m\u001b[0m\n\u001b[1;32m    464\u001b[0m         \u001b[0;32mif\u001b[0m \u001b[0mlen\u001b[0m\u001b[0;34m(\u001b[0m\u001b[0ma\u001b[0m\u001b[0;34m)\u001b[0m \u001b[0;34m>\u001b[0m \u001b[0;36m0\u001b[0m \u001b[0;32mand\u001b[0m \u001b[0;32mnot\u001b[0m \u001b[0mignore_outside_points\u001b[0m\u001b[0;34m:\u001b[0m\u001b[0;34m\u001b[0m\u001b[0;34m\u001b[0m\u001b[0m\n\u001b[0;32m--> 465\u001b[0;31m             \u001b[0;32mraise\u001b[0m \u001b[0mPointOutsideOfDWIError\u001b[0m\u001b[0;34m(\u001b[0m\u001b[0mself\u001b[0m\u001b[0;34m,\u001b[0m \u001b[0mself\u001b[0m\u001b[0;34m.\u001b[0m\u001b[0mto_ras\u001b[0m\u001b[0;34m(\u001b[0m\u001b[0mpoints\u001b[0m\u001b[0;34m)\u001b[0m\u001b[0;34m,\u001b[0m \u001b[0mself\u001b[0m\u001b[0;34m.\u001b[0m\u001b[0mto_ras\u001b[0m\u001b[0;34m(\u001b[0m\u001b[0mpoints\u001b[0m\u001b[0;34m[\u001b[0m\u001b[0ma\u001b[0m\u001b[0;34m]\u001b[0m\u001b[0;34m)\u001b[0m\u001b[0;34m)\u001b[0m\u001b[0;34m\u001b[0m\u001b[0;34m\u001b[0m\u001b[0m\n\u001b[0m\u001b[1;32m    466\u001b[0m \u001b[0;34m\u001b[0m\u001b[0m\n\u001b[1;32m    467\u001b[0m         \u001b[0mpoints\u001b[0m\u001b[0;34m[\u001b[0m\u001b[0ma\u001b[0m\u001b[0;34m]\u001b[0m \u001b[0;34m=\u001b[0m \u001b[0mnp\u001b[0m\u001b[0;34m.\u001b[0m\u001b[0mzeros\u001b[0m\u001b[0;34m(\u001b[0m\u001b[0;36m3\u001b[0m\u001b[0;34m)\u001b[0m \u001b[0;31m# set the points being outside to inside points\u001b[0m\u001b[0;34m\u001b[0m\u001b[0;34m\u001b[0m\u001b[0m\n",
      "\u001b[0;31mPointOutsideOfDWIError\u001b[0m: While parsing 27 points for further processing, it became apparent that [[   26.5 -1377.    -10.5]\n [   26.5 -1377.     -9.5]\n [   26.5 -1377.     -8.5]\n [   26.5 -1376.    -10.5]\n [   26.5 -1376.     -9.5]\n [   26.5 -1376.     -8.5]\n [   26.5 -1375.    -10.5]\n [   26.5 -1375.     -9.5]\n [   26.5 -1375.     -8.5]\n [   27.5 -1377.    -10.5]\n [   27.5 -1377.     -9.5]\n [   27.5 -1377.     -8.5]\n [   27.5 -1376.    -10.5]\n [   27.5 -1376.     -9.5]\n [   27.5 -1376.     -8.5]\n [   27.5 -1375.    -10.5]\n [   27.5 -1375.     -9.5]\n [   27.5 -1375.     -8.5]\n [   28.5 -1377.    -10.5]\n [   28.5 -1377.     -9.5]\n [   28.5 -1377.     -8.5]\n [   28.5 -1376.    -10.5]\n [   28.5 -1376.     -9.5]\n [   28.5 -1376.     -8.5]\n [   28.5 -1375.    -10.5]\n [   28.5 -1375.     -9.5]\n [   28.5 -1375.     -8.5]] of the points doesn't lay inside of DataContainer 'HCPDataContainer-HCP100307-b0thr-10.0'."
     ]
    }
   ],
   "source": [
    "state = env.reset()\n",
    "print(state.getCoordinate())\n",
    "print(state.getValue().shape)"
   ]
  },
  {
   "cell_type": "code",
   "execution_count": 5,
   "metadata": {},
   "outputs": [
    {
     "ename": "PointOutsideOfDWIError",
     "evalue": "While parsing 27 points for further processing, it became apparent that [[   26.5 -1377.    -10.5]\n [   26.5 -1377.     -9.5]\n [   26.5 -1377.     -8.5]\n [   26.5 -1376.    -10.5]\n [   26.5 -1376.     -9.5]\n [   26.5 -1376.     -8.5]\n [   26.5 -1375.    -10.5]\n [   26.5 -1375.     -9.5]\n [   26.5 -1375.     -8.5]\n [   27.5 -1377.    -10.5]\n [   27.5 -1377.     -9.5]\n [   27.5 -1377.     -8.5]\n [   27.5 -1376.    -10.5]\n [   27.5 -1376.     -9.5]\n [   27.5 -1376.     -8.5]\n [   27.5 -1375.    -10.5]\n [   27.5 -1375.     -9.5]\n [   27.5 -1375.     -8.5]\n [   28.5 -1377.    -10.5]\n [   28.5 -1377.     -9.5]\n [   28.5 -1377.     -8.5]\n [   28.5 -1376.    -10.5]\n [   28.5 -1376.     -9.5]\n [   28.5 -1376.     -8.5]\n [   28.5 -1375.    -10.5]\n [   28.5 -1375.     -9.5]\n [   28.5 -1375.     -8.5]] of the points doesn't lay inside of DataContainer 'HCPDataContainer-HCP100307-b0thr-10.0'.",
     "output_type": "error",
     "traceback": [
      "\u001b[0;31m---------------------------------------------------------------------------\u001b[0m",
      "\u001b[0;31mPointOutsideOfDWIError\u001b[0m                    Traceback (most recent call last)",
      "\u001b[0;32m<ipython-input-5-74d7c19d5dba>\u001b[0m in \u001b[0;36m<module>\u001b[0;34m\u001b[0m\n\u001b[1;32m     16\u001b[0m         \u001b[0;32mfor\u001b[0m \u001b[0m_\u001b[0m \u001b[0;32min\u001b[0m \u001b[0mrange\u001b[0m\u001b[0;34m(\u001b[0m\u001b[0mmax_episode_length\u001b[0m\u001b[0;34m)\u001b[0m\u001b[0;34m:\u001b[0m\u001b[0;34m\u001b[0m\u001b[0;34m\u001b[0m\u001b[0m\n\u001b[1;32m     17\u001b[0m             \u001b[0;31m# get action with epsilon-greedy strategy\u001b[0m\u001b[0;34m\u001b[0m\u001b[0;34m\u001b[0m\u001b[0;34m\u001b[0m\u001b[0m\n\u001b[0;32m---> 18\u001b[0;31m             \u001b[0maction\u001b[0m \u001b[0;34m=\u001b[0m \u001b[0maction_scheduler\u001b[0m\u001b[0;34m.\u001b[0m\u001b[0mget_action\u001b[0m\u001b[0;34m(\u001b[0m\u001b[0mstep_counter\u001b[0m\u001b[0;34m,\u001b[0m \u001b[0mstate\u001b[0m\u001b[0;34m.\u001b[0m\u001b[0mgetValue\u001b[0m\u001b[0;34m(\u001b[0m\u001b[0;34m)\u001b[0m\u001b[0;34m.\u001b[0m\u001b[0munsqueeze\u001b[0m\u001b[0;34m(\u001b[0m\u001b[0;36m0\u001b[0m\u001b[0;34m)\u001b[0m\u001b[0;34m)\u001b[0m\u001b[0;34m\u001b[0m\u001b[0;34m\u001b[0m\u001b[0m\n\u001b[0m\u001b[1;32m     19\u001b[0m \u001b[0;34m\u001b[0m\u001b[0m\n\u001b[1;32m     20\u001b[0m             \u001b[0;31m# perform step on environment\u001b[0m\u001b[0;34m\u001b[0m\u001b[0;34m\u001b[0m\u001b[0;34m\u001b[0m\u001b[0m\n",
      "\u001b[0;32m/bigdata/hplsim/aipp/RLtract/RL_FiberTracking/state.py\u001b[0m in \u001b[0;36mgetValue\u001b[0;34m(self)\u001b[0m\n\u001b[1;32m     13\u001b[0m     \u001b[0;32mdef\u001b[0m \u001b[0mgetValue\u001b[0m\u001b[0;34m(\u001b[0m\u001b[0mself\u001b[0m\u001b[0;34m)\u001b[0m\u001b[0;34m:\u001b[0m\u001b[0;34m\u001b[0m\u001b[0;34m\u001b[0m\u001b[0m\n\u001b[1;32m     14\u001b[0m         \u001b[0;31m# interpolate DWI value at self.coordinate\u001b[0m\u001b[0;34m\u001b[0m\u001b[0;34m\u001b[0m\u001b[0;34m\u001b[0m\u001b[0m\n\u001b[0;32m---> 15\u001b[0;31m         \u001b[0minterpolatedDWI\u001b[0m \u001b[0;34m=\u001b[0m \u001b[0mself\u001b[0m\u001b[0;34m.\u001b[0m\u001b[0minterpolFuncHandle\u001b[0m\u001b[0;34m(\u001b[0m\u001b[0mself\u001b[0m\u001b[0;34m.\u001b[0m\u001b[0mcoordinate\u001b[0m\u001b[0;34m)\u001b[0m\u001b[0;34m\u001b[0m\u001b[0;34m\u001b[0m\u001b[0m\n\u001b[0m\u001b[1;32m     16\u001b[0m         \u001b[0;32mreturn\u001b[0m \u001b[0minterpolatedDWI\u001b[0m\u001b[0;34m\u001b[0m\u001b[0;34m\u001b[0m\u001b[0m\n",
      "\u001b[0;32m/bigdata/hplsim/aipp/RLtract/RL_FiberTracking/envs/RLtractEnvironment.py\u001b[0m in \u001b[0;36minterpolateDWIatState\u001b[0;34m(self, state)\u001b[0m\n\u001b[1;32m     36\u001b[0m         \u001b[0mras_points\u001b[0m \u001b[0;34m=\u001b[0m \u001b[0mself\u001b[0m\u001b[0;34m.\u001b[0m\u001b[0mgrid\u001b[0m \u001b[0;34m+\u001b[0m \u001b[0mras_points\u001b[0m\u001b[0;34m\u001b[0m\u001b[0;34m\u001b[0m\u001b[0m\n\u001b[1;32m     37\u001b[0m \u001b[0;34m\u001b[0m\u001b[0m\n\u001b[0;32m---> 38\u001b[0;31m         \u001b[0minterpolated_dwi\u001b[0m \u001b[0;34m=\u001b[0m \u001b[0mself\u001b[0m\u001b[0;34m.\u001b[0m\u001b[0mdataset\u001b[0m\u001b[0;34m.\u001b[0m\u001b[0mget_interpolated_dwi\u001b[0m\u001b[0;34m(\u001b[0m\u001b[0mras_points\u001b[0m\u001b[0;34m,\u001b[0m \u001b[0mpostprocessing\u001b[0m\u001b[0;34m=\u001b[0m\u001b[0mself\u001b[0m\u001b[0;34m.\u001b[0m\u001b[0mdwi_postprocessor\u001b[0m\u001b[0;34m)\u001b[0m\u001b[0;34m\u001b[0m\u001b[0;34m\u001b[0m\u001b[0m\n\u001b[0m\u001b[1;32m     39\u001b[0m         \u001b[0minterpolated_dwi\u001b[0m \u001b[0;34m=\u001b[0m \u001b[0mnp\u001b[0m\u001b[0;34m.\u001b[0m\u001b[0mrollaxis\u001b[0m\u001b[0;34m(\u001b[0m\u001b[0minterpolated_dwi\u001b[0m\u001b[0;34m,\u001b[0m\u001b[0;36m3\u001b[0m\u001b[0;34m)\u001b[0m \u001b[0;31m#CxWxHxD\u001b[0m\u001b[0;34m\u001b[0m\u001b[0;34m\u001b[0m\u001b[0m\n\u001b[1;32m     40\u001b[0m         \u001b[0minterpolated_dwi\u001b[0m \u001b[0;34m=\u001b[0m \u001b[0mself\u001b[0m\u001b[0;34m.\u001b[0m\u001b[0mdtype\u001b[0m\u001b[0;34m(\u001b[0m\u001b[0minterpolated_dwi\u001b[0m\u001b[0;34m)\u001b[0m\u001b[0;34m.\u001b[0m\u001b[0mto\u001b[0m\u001b[0;34m(\u001b[0m\u001b[0mself\u001b[0m\u001b[0;34m.\u001b[0m\u001b[0mdevice\u001b[0m\u001b[0;34m)\u001b[0m\u001b[0;34m\u001b[0m\u001b[0;34m\u001b[0m\u001b[0m\n",
      "\u001b[0;32m/bigdata/hplsim/aipp/RLtract/RL_FiberTracking/ext/deepFibreTracking/src/data/__init__.py\u001b[0m in \u001b[0;36mget_interpolated_dwi\u001b[0;34m(self, points, postprocessing, ignore_outside_points)\u001b[0m\n\u001b[1;32m    463\u001b[0m         \u001b[0ma\u001b[0m\u001b[0;34m,\u001b[0m \u001b[0;34m=\u001b[0m \u001b[0mnp\u001b[0m\u001b[0;34m.\u001b[0m\u001b[0mnonzero\u001b[0m\u001b[0;34m(\u001b[0m\u001b[0mcondition\u001b[0m\u001b[0;34m)\u001b[0m \u001b[0;31m# np.nonzero returns tuple (a)\u001b[0m\u001b[0;34m\u001b[0m\u001b[0;34m\u001b[0m\u001b[0m\n\u001b[1;32m    464\u001b[0m         \u001b[0;32mif\u001b[0m \u001b[0mlen\u001b[0m\u001b[0;34m(\u001b[0m\u001b[0ma\u001b[0m\u001b[0;34m)\u001b[0m \u001b[0;34m>\u001b[0m \u001b[0;36m0\u001b[0m \u001b[0;32mand\u001b[0m \u001b[0;32mnot\u001b[0m \u001b[0mignore_outside_points\u001b[0m\u001b[0;34m:\u001b[0m\u001b[0;34m\u001b[0m\u001b[0;34m\u001b[0m\u001b[0m\n\u001b[0;32m--> 465\u001b[0;31m             \u001b[0;32mraise\u001b[0m \u001b[0mPointOutsideOfDWIError\u001b[0m\u001b[0;34m(\u001b[0m\u001b[0mself\u001b[0m\u001b[0;34m,\u001b[0m \u001b[0mself\u001b[0m\u001b[0;34m.\u001b[0m\u001b[0mto_ras\u001b[0m\u001b[0;34m(\u001b[0m\u001b[0mpoints\u001b[0m\u001b[0;34m)\u001b[0m\u001b[0;34m,\u001b[0m \u001b[0mself\u001b[0m\u001b[0;34m.\u001b[0m\u001b[0mto_ras\u001b[0m\u001b[0;34m(\u001b[0m\u001b[0mpoints\u001b[0m\u001b[0;34m[\u001b[0m\u001b[0ma\u001b[0m\u001b[0;34m]\u001b[0m\u001b[0;34m)\u001b[0m\u001b[0;34m)\u001b[0m\u001b[0;34m\u001b[0m\u001b[0;34m\u001b[0m\u001b[0m\n\u001b[0m\u001b[1;32m    466\u001b[0m \u001b[0;34m\u001b[0m\u001b[0m\n\u001b[1;32m    467\u001b[0m         \u001b[0mpoints\u001b[0m\u001b[0;34m[\u001b[0m\u001b[0ma\u001b[0m\u001b[0;34m]\u001b[0m \u001b[0;34m=\u001b[0m \u001b[0mnp\u001b[0m\u001b[0;34m.\u001b[0m\u001b[0mzeros\u001b[0m\u001b[0;34m(\u001b[0m\u001b[0;36m3\u001b[0m\u001b[0;34m)\u001b[0m \u001b[0;31m# set the points being outside to inside points\u001b[0m\u001b[0;34m\u001b[0m\u001b[0;34m\u001b[0m\u001b[0m\n",
      "\u001b[0;31mPointOutsideOfDWIError\u001b[0m: While parsing 27 points for further processing, it became apparent that [[   26.5 -1377.    -10.5]\n [   26.5 -1377.     -9.5]\n [   26.5 -1377.     -8.5]\n [   26.5 -1376.    -10.5]\n [   26.5 -1376.     -9.5]\n [   26.5 -1376.     -8.5]\n [   26.5 -1375.    -10.5]\n [   26.5 -1375.     -9.5]\n [   26.5 -1375.     -8.5]\n [   27.5 -1377.    -10.5]\n [   27.5 -1377.     -9.5]\n [   27.5 -1377.     -8.5]\n [   27.5 -1376.    -10.5]\n [   27.5 -1376.     -9.5]\n [   27.5 -1376.     -8.5]\n [   27.5 -1375.    -10.5]\n [   27.5 -1375.     -9.5]\n [   27.5 -1375.     -8.5]\n [   28.5 -1377.    -10.5]\n [   28.5 -1377.     -9.5]\n [   28.5 -1377.     -8.5]\n [   28.5 -1376.    -10.5]\n [   28.5 -1376.     -9.5]\n [   28.5 -1376.     -8.5]\n [   28.5 -1375.    -10.5]\n [   28.5 -1375.     -9.5]\n [   28.5 -1375.     -8.5]] of the points doesn't lay inside of DataContainer 'HCPDataContainer-HCP100307-b0thr-10.0'."
     ]
    }
   ],
   "source": [
    "step_counter = 0\n",
    "    \n",
    "rewards = []\n",
    "\n",
    "while step_counter < max_steps:\n",
    "    state = env.reset()\n",
    "\n",
    "    episode_reward_sum = 0\n",
    "\n",
    "    epoch_step = 0\n",
    "\n",
    "    ######## fill memory begins here\n",
    "    while epoch_step < evaluate_every:  # To Do implement evaluation\n",
    "        \n",
    "        #fill replay memory while interacting with env\n",
    "        for _ in range(max_episode_length):\n",
    "            # get action with epsilon-greedy strategy\n",
    "            try:\n",
    "                action = action_scheduler.get_action(step_counter, state.getValue().unsqueeze(0))\n",
    "            except PointOutsideOfDWIError:\n",
    "                action = n_actions-1\n",
    "\n",
    "            # perform step on environment\n",
    "            next_state, reward, terminal = env.step(action)\n",
    "            \n",
    "\n",
    "            # increase counter\n",
    "            step_counter += 1\n",
    "            epoch_step += 1\n",
    "\n",
    "            # accumulate reward for current episode\n",
    "            episode_reward_sum += reward\n",
    "            \n",
    "\n",
    "            # add current state, action, reward and terminal flag to memory\n",
    "            agent.replay_memory.add_experience(action=action,\n",
    "                                               state=state,\n",
    "                                               reward=reward,\n",
    "                                               terminal=terminal)\n",
    "            \n",
    "            # prepare for next step\n",
    "            state = next_state\n",
    "\n",
    "            ####### optimization is happening here\n",
    "            if step_counter > agent.replay_memory.size:\n",
    "                loss = agent.optimize()\n",
    "\n",
    "            ####### target network update\n",
    "            if step_counter > agent.replay_memory.size and step_counter % network_update_every == 0:\n",
    "                agent.target_dqn.load_state_dict(agent.main_dqn.state_dict())\n",
    "            \n",
    "            # if episode ended before maximum step\n",
    "            if terminal:\n",
    "                terminal = False\n",
    "                state = env.reset()\n",
    "                episode_reward_sum = 0\n",
    "                epoch_step = 0\n",
    "                break\n",
    "        rewards.append(episode_reward_sum)\n",
    "\n",
    "    if len(rewards) % 10 == 0:\n",
    "        print(\"[{}], {}, {}\".format(len(rewards), step_counter, np.mean(rewards[-100:])))\n",
    "\n",
    "########## evaluation starting here\n",
    "    eval_rewards = []\n",
    "    for _ in range(eval_runs):\n",
    "        eval_steps = 0\n",
    "        state = env.reset()\n",
    "        eval_episode_reward = 0\n",
    "        while eval_steps < max_episode_length:\n",
    "            action = action_scheduler(step_counter, state, evaluation=True)\n",
    "\n",
    "            next_state, reward, terminal = env.step()\n",
    "\n",
    "            eval_steps += 1\n",
    "            eval_episode_reward += reward\n",
    "            state = next_state\n",
    "\n",
    "            if terminal:\n",
    "                terminal = False\n",
    "                break\n",
    "\n",
    "        eval_rewards.append(eval_episode_reward)\n",
    "    \n",
    "    print(\"Evaluation score:\\n\", np.mean(eval_rewards))\n"
   ]
  }
 ],
 "metadata": {
  "kernelspec": {
   "display_name": "CONDA (atari)",
   "language": "python",
   "name": "atari"
  },
  "language_info": {
   "codemirror_mode": {
    "name": "ipython",
    "version": 3
   },
   "file_extension": ".py",
   "mimetype": "text/x-python",
   "name": "python",
   "nbconvert_exporter": "python",
   "pygments_lexer": "ipython3",
   "version": "3.8.3"
  }
 },
 "nbformat": 4,
 "nbformat_minor": 2
}
