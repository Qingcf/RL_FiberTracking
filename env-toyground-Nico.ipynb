{
 "cells": [
  {
   "cell_type": "code",
   "execution_count": 1,
   "metadata": {},
   "outputs": [],
   "source": [
    "import os, sys\n",
    "sys.path.append('ext/deepFibreTracking/')\n",
    "\n",
    "import numpy as np\n",
    "import random\n",
    "import gym\n",
    "from itertools import count\n",
    "import torch\n",
    "import torch.nn as nn\n",
    "import torch.optim as optim\n",
    "import torch.nn.functional as F\n",
    "import envs.RLtractEnvironment as RLTe\n",
    "from src.data import HCPDataContainer, ISMRMDataContainer"
   ]
  },
  {
   "cell_type": "markdown",
   "metadata": {},
   "source": [
    "# Initialise environment"
   ]
  },
  {
   "cell_type": "code",
   "execution_count": 2,
   "metadata": {},
   "outputs": [
    {
     "name": "stdout",
     "output_type": "stream",
     "text": [
      "Reset to streamline 128/5576\n"
     ]
    }
   ],
   "source": [
    "RLenv = RLTe.RLtractEnvironment(device = 'cpu', grid_dim=[3,3,3])"
   ]
  },
  {
   "cell_type": "code",
   "execution_count": 3,
   "metadata": {},
   "outputs": [
    {
     "name": "stdout",
     "output_type": "stream",
     "text": [
      "Reward: -0.004\n"
     ]
    }
   ],
   "source": [
    "nextState, rewardNextState, done = RLenv.step(10)\n",
    "print(\"Reward: %.3f\" % (rewardNextState))"
   ]
  },
  {
   "cell_type": "code",
   "execution_count": 4,
   "metadata": {},
   "outputs": [
    {
     "data": {
      "text/plain": [
       "tensor([[[[0.0762, 0.1170, 0.1829],\n",
       "          [0.1078, 0.1741, 0.2614],\n",
       "          [0.1478, 0.2085, 0.2185]],\n",
       "\n",
       "         [[0.0959, 0.1519, 0.2191],\n",
       "          [0.1344, 0.2051, 0.2773],\n",
       "          [0.1767, 0.2341, 0.2316]],\n",
       "\n",
       "         [[0.1461, 0.2228, 0.2790],\n",
       "          [0.1882, 0.2626, 0.3137],\n",
       "          [0.2358, 0.2902, 0.2627]]],\n",
       "\n",
       "\n",
       "        [[[0.0641, 0.1071, 0.1704],\n",
       "          [0.0996, 0.1714, 0.2567],\n",
       "          [0.1442, 0.2210, 0.2470]],\n",
       "\n",
       "         [[0.0816, 0.1350, 0.1950],\n",
       "          [0.1227, 0.1954, 0.2602],\n",
       "          [0.1732, 0.2427, 0.2432]],\n",
       "\n",
       "         [[0.1301, 0.2017, 0.2528],\n",
       "          [0.1701, 0.2446, 0.2895],\n",
       "          [0.2289, 0.2921, 0.2610]]],\n",
       "\n",
       "\n",
       "        [[[0.0734, 0.1133, 0.1684],\n",
       "          [0.1095, 0.1723, 0.2371],\n",
       "          [0.1492, 0.2113, 0.2072]],\n",
       "\n",
       "         [[0.0913, 0.1432, 0.1935],\n",
       "          [0.1308, 0.1959, 0.2417],\n",
       "          [0.1723, 0.2245, 0.2135]],\n",
       "\n",
       "         [[0.1436, 0.2105, 0.2433],\n",
       "          [0.1813, 0.2458, 0.2663],\n",
       "          [0.2228, 0.2680, 0.2332]]],\n",
       "\n",
       "\n",
       "        ...,\n",
       "\n",
       "\n",
       "        [[[0.0457, 0.0894, 0.1556],\n",
       "          [0.0791, 0.1583, 0.2469],\n",
       "          [0.1105, 0.1835, 0.2133]],\n",
       "\n",
       "         [[0.0725, 0.1295, 0.1962],\n",
       "          [0.1134, 0.1959, 0.2673],\n",
       "          [0.1384, 0.2152, 0.2463]],\n",
       "\n",
       "         [[0.1257, 0.2032, 0.2710],\n",
       "          [0.1692, 0.2534, 0.3130],\n",
       "          [0.1907, 0.2713, 0.3082]]],\n",
       "\n",
       "\n",
       "        [[[0.0476, 0.0861, 0.1490],\n",
       "          [0.0783, 0.1487, 0.2411],\n",
       "          [0.1180, 0.1914, 0.2131]],\n",
       "\n",
       "         [[0.0773, 0.1358, 0.1984],\n",
       "          [0.1172, 0.2063, 0.2836],\n",
       "          [0.1623, 0.2462, 0.2516]],\n",
       "\n",
       "         [[0.1364, 0.2182, 0.2779],\n",
       "          [0.1852, 0.2887, 0.3548],\n",
       "          [0.2502, 0.3375, 0.3131]]],\n",
       "\n",
       "\n",
       "        [[[0.0678, 0.1087, 0.1666],\n",
       "          [0.1044, 0.1860, 0.2666],\n",
       "          [0.1426, 0.2197, 0.2328]],\n",
       "\n",
       "         [[0.0895, 0.1425, 0.1911],\n",
       "          [0.1366, 0.2215, 0.2778],\n",
       "          [0.1829, 0.2567, 0.2417]],\n",
       "\n",
       "         [[0.1370, 0.2025, 0.2399],\n",
       "          [0.1940, 0.2733, 0.3049],\n",
       "          [0.2515, 0.3174, 0.2700]]]])"
      ]
     },
     "execution_count": 4,
     "metadata": {},
     "output_type": "execute_result"
    }
   ],
   "source": [
    "nextState.getValue()"
   ]
  },
  {
   "cell_type": "markdown",
   "metadata": {},
   "source": [
    "# Tracker"
   ]
  },
  {
   "cell_type": "code",
   "execution_count": 16,
   "metadata": {},
   "outputs": [],
   "source": [
    "from src.data import HCPDataContainer, ISMRMDataContainer\n",
    "from src.data.postprocessing import res100\n",
    "from src.tracker import DTITracker, CSDTracker, ISMRMReferenceStreamlinesTracker, StreamlinesFromFileTracker"
   ]
  },
  {
   "cell_type": "code",
   "execution_count": 17,
   "metadata": {},
   "outputs": [
    {
     "name": "stderr",
     "output_type": "stream",
     "text": [
      "/home/hoffma83/.local/lib/python3.6/site-packages/fury/utils.py:97: VisibleDeprecationWarning: Creating an ndarray from ragged nested sequences (which is a list-or-tuple of lists-or-tuples-or ndarrays with different lengths or shapes) is deprecated. If you meant to do this, you must specify 'dtype=object' when creating the ndarray\n",
      "  data = np.array(data)\n"
     ]
    }
   ],
   "source": [
    "hcp_sl = CSDTracker(RLenv.dataset, random_seeds=True, seeds_count=40000)\n",
    "hcp_sl.track()"
   ]
  },
  {
   "cell_type": "code",
   "execution_count": 18,
   "metadata": {},
   "outputs": [],
   "source": [
    "sls = hcp_sl.get_streamlines()"
   ]
  },
  {
   "cell_type": "code",
   "execution_count": 19,
   "metadata": {},
   "outputs": [],
   "source": [
    "streamline_index = np.random.randint(len(sls))\n",
    "referenceStreamline = sls[streamline_index]"
   ]
  },
  {
   "cell_type": "code",
   "execution_count": 20,
   "metadata": {},
   "outputs": [
    {
     "name": "stderr",
     "output_type": "stream",
     "text": [
      "/home/hoffma83/.local/lib/python3.6/site-packages/fury/utils.py:97: VisibleDeprecationWarning: Creating an ndarray from ragged nested sequences (which is a list-or-tuple of lists-or-tuples-or ndarrays with different lengths or shapes) is deprecated. If you meant to do this, you must specify 'dtype=object' when creating the ndarray\n",
      "  data = np.array(data)\n"
     ]
    }
   ],
   "source": [
    "filtered_streamlines = hcp_sl.filtered_streamlines_by_length(minimum=40) # filter streamlines\n",
    "\n",
    "hcp_sl.save_to_file(\"data/HCP307200_CSD_min40.vtk\")"
   ]
  },
  {
   "cell_type": "code",
   "execution_count": 21,
   "metadata": {},
   "outputs": [
    {
     "data": {
      "text/plain": [
       "23151"
      ]
     },
     "execution_count": 21,
     "metadata": {},
     "output_type": "execute_result"
    }
   ],
   "source": [
    "len(filtered_streamlines)"
   ]
  },
  {
   "cell_type": "code",
   "execution_count": 11,
   "metadata": {},
   "outputs": [
    {
     "ename": "NameError",
     "evalue": "name 'referenceStreamline_ijk' is not defined",
     "output_type": "error",
     "traceback": [
      "\u001b[0;31m---------------------------------------------------------------------------\u001b[0m",
      "\u001b[0;31mNameError\u001b[0m                                 Traceback (most recent call last)",
      "\u001b[0;32m<ipython-input-11-eb7154fe1e0c>\u001b[0m in \u001b[0;36m<module>\u001b[0;34m()\u001b[0m\n\u001b[0;32m----> 1\u001b[0;31m \u001b[0mref\u001b[0m \u001b[0;34m=\u001b[0m \u001b[0mtorch\u001b[0m\u001b[0;34m.\u001b[0m\u001b[0mFloatTensor\u001b[0m\u001b[0;34m(\u001b[0m\u001b[0mreferenceStreamline_ijk\u001b[0m\u001b[0;34m)\u001b[0m\u001b[0;34m\u001b[0m\u001b[0m\n\u001b[0m",
      "\u001b[0;31mNameError\u001b[0m: name 'referenceStreamline_ijk' is not defined"
     ]
    }
   ],
   "source": [
    "ref = torch.FloatTensor(referenceStreamline_ijk)"
   ]
  },
  {
   "cell_type": "code",
   "execution_count": null,
   "metadata": {},
   "outputs": [],
   "source": [
    "ref.shape"
   ]
  },
  {
   "cell_type": "code",
   "execution_count": null,
   "metadata": {},
   "outputs": [],
   "source": [
    "pts = torch.FloatTensor(np.array([50,50,50])).view(1,-1)\n",
    "pts = ref[10]+10"
   ]
  },
  {
   "cell_type": "code",
   "execution_count": null,
   "metadata": {},
   "outputs": [],
   "source": [
    "minDist = torch.min(torch.sum( (ref - pts)**2, dim =1 ))"
   ]
  },
  {
   "cell_type": "code",
   "execution_count": null,
   "metadata": {},
   "outputs": [],
   "source": [
    "minDist"
   ]
  },
  {
   "cell_type": "code",
   "execution_count": null,
   "metadata": {},
   "outputs": [],
   "source": [
    "torch.nn.functional.leaky_relu(-1 * minDist)"
   ]
  },
  {
   "cell_type": "code",
   "execution_count": null,
   "metadata": {},
   "outputs": [],
   "source": [
    "torch.where(minDist < 0.1, 1,2)"
   ]
  },
  {
   "cell_type": "code",
   "execution_count": null,
   "metadata": {},
   "outputs": [],
   "source": []
  }
 ],
 "metadata": {
  "kernelspec": {
   "display_name": "Python 3",
   "language": "python",
   "name": "python3"
  },
  "language_info": {
   "codemirror_mode": {
    "name": "ipython",
    "version": 3
   },
   "file_extension": ".py",
   "mimetype": "text/x-python",
   "name": "python",
   "nbconvert_exporter": "python",
   "pygments_lexer": "ipython3",
   "version": "3.6.5"
  },
  "latex_envs": {
   "LaTeX_envs_menu_present": true,
   "autoclose": false,
   "autocomplete": true,
   "bibliofile": "biblio.bib",
   "cite_by": "apalike",
   "current_citInitial": 1,
   "eqLabelWithNumbers": true,
   "eqNumInitial": 1,
   "hotkeys": {
    "equation": "Ctrl-E",
    "itemize": "Ctrl-I"
   },
   "labels_anchors": false,
   "latex_user_defs": false,
   "report_style_numbering": false,
   "user_envs_cfg": false
  }
 },
 "nbformat": 4,
 "nbformat_minor": 2
}
